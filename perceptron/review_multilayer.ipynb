{
 "cells": [
  {
   "cell_type": "code",
   "execution_count": 241,
   "metadata": {},
   "outputs": [],
   "source": [
    "import numpy as np"
   ]
  },
  {
   "cell_type": "code",
   "execution_count": 242,
   "metadata": {},
   "outputs": [],
   "source": [
    "class Network():\n",
    "    def __init__(self, input_data, output_data, hidden_neurons):\n",
    "        self.input_data = input_data\n",
    "        self.output_data = output_data\n",
    "        self.hidden_neurons = hidden_neurons\n",
    "\n",
    "    def sigmoid(self, sum):\n",
    "        y = 1 / (1 + np.exp(-sum))\n",
    "        return y\n",
    "\n",
    "    def sigmoid_derivative(self, y):\n",
    "        return y * (1 - y)\n",
    "        \n",
    "    def initialize_weights(self, input_neurons, output_neurons, hidden_neurons):\n",
    "        weight0 = 2 * np.random.random((input_neurons.shape[1], hidden_neurons)) -1 \n",
    "        weight1 = 2 * np.random.random((hidden_neurons, output_neurons.shape[1])) -1\n",
    "\n",
    "        return weight0, weight1\n",
    "\n",
    "    def calc_erro(self, output, output_layer):\n",
    "        erro = output - output_layer\n",
    "        accuracy = np.mean(np.abs(erro))\n",
    "\n",
    "        return erro, accuracy\n",
    "\n",
    "    def output_delta(self, erro, output_layer):\n",
    "        output_delta = erro * self.sigmoid_derivative(output_layer)\n",
    "        \n",
    "        return output_delta\n",
    "\n",
    "    def delta_hidden(self, data_layer, output_delta, weight):\n",
    "        transpose_weight = weight.T\n",
    "        delta_hidden = self.sigmoid_derivative(data_layer) * (output_delta.dot(transpose_weight))\n",
    "\n",
    "        return delta_hidden\n",
    "\n",
    "    def forward_propagation(self, layer, weight):\n",
    "        return self.sigmoid(np.dot(layer, weight))\n",
    "\n",
    "    def back_propagition(self, data_layer, delta, weight, momentum=1, learning_rate=0.5):\n",
    "\n",
    "        transpose_layer = data_layer.T\n",
    "        new_weight_layer = transpose_layer.dot(delta)\n",
    "\n",
    "        weight = (weight * momentum) + (new_weight_layer * learning_rate)\n",
    "        \n",
    "        return weight\n",
    "\n",
    "    def train(self, epochs=100, momentum=None, learning_rate=None):\n",
    "        accuracy = 0\n",
    "\n",
    "        weight0, weight1 = self.initialize_weights(self.input_data, self.output_data, self.hidden_neurons)\n",
    "\n",
    "        for _ in range(epochs):\n",
    "\n",
    "            hidden_layer = self.forward_propagation(self.input_data, weight0)\n",
    "            output_layer = self.forward_propagation(hidden_layer, weight1)\n",
    "\n",
    "            erro, accuracy = self.calc_erro(self.output_data, output_layer)\n",
    "\n",
    "            final_delta = self.output_delta(erro, output_layer)\n",
    "            hidden_delta = self.delta_hidden(hidden_layer, final_delta, weight1)\n",
    "\n",
    "            #Atualiza os pesos\n",
    "            weight1 = self.back_propagition(hidden_layer, final_delta, weight1)\n",
    "            weight0 = self.back_propagition(self.input_data, hidden_delta, weight0)\n",
    "\n",
    "        print(\"A acuracia do modelo da rede neural: {:.2f}%\".format((1 - accuracy) * 100))\n",
    "\n"
   ]
  },
  {
   "cell_type": "code",
   "execution_count": 243,
   "metadata": {},
   "outputs": [
    {
     "name": "stdout",
     "output_type": "stream",
     "text": [
      "A acuracia do modelo da rede neural: 99.47%\n"
     ]
    }
   ],
   "source": [
    "x_train = np.array([[0,0],[0,1],[1,0],[1,1]])\n",
    "y_train = np.array([[0],[1],[1],[0]])\n",
    "hidden_neurons = 10\n",
    "learning_rate = 0.5\n",
    "momentum = 1\n",
    "epochs = 100000\n",
    "\n",
    "model = Network(x_train, y_train, hidden_neurons=hidden_neurons)\n",
    "\n",
    "model.train(epochs=epochs)"
   ]
  }
 ],
 "metadata": {
  "kernelspec": {
   "display_name": "base",
   "language": "python",
   "name": "python3"
  },
  "language_info": {
   "codemirror_mode": {
    "name": "ipython",
    "version": 3
   },
   "file_extension": ".py",
   "mimetype": "text/x-python",
   "name": "python",
   "nbconvert_exporter": "python",
   "pygments_lexer": "ipython3",
   "version": "3.9.13"
  },
  "orig_nbformat": 4,
  "vscode": {
   "interpreter": {
    "hash": "caee80986071d282bdc450f1cac9a9b424c2a54a341b1dfc38a1eb4c803d8cd6"
   }
  }
 },
 "nbformat": 4,
 "nbformat_minor": 2
}
