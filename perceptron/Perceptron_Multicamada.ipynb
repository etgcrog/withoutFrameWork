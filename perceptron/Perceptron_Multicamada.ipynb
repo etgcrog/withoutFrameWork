{
  "nbformat": 4,
  "nbformat_minor": 0,
  "metadata": {
    "colab": {
      "provenance": [],
      "authorship_tag": "ABX9TyMcRp7GMyB4OxTROMp1OWhD",
      "include_colab_link": true
    },
    "kernelspec": {
      "name": "python3",
      "display_name": "Python 3"
    },
    "language_info": {
      "name": "python"
    }
  },
  "cells": [
    {
      "cell_type": "markdown",
      "metadata": {
        "id": "view-in-github",
        "colab_type": "text"
      },
      "source": [
        "<a href=\"https://colab.research.google.com/github/etgcrog/withoutFrameWork/blob/main/Perceptron_Multicamada.ipynb\" target=\"_parent\"><img src=\"https://colab.research.google.com/assets/colab-badge.svg\" alt=\"Open In Colab\"/></a>"
      ]
    },
    {
      "cell_type": "markdown",
      "source": [
        "# Sigmoid"
      ],
      "metadata": {
        "id": "tTNraZ6CQ60W"
      }
    },
    {
      "cell_type": "code",
      "source": [
        "import numpy as np"
      ],
      "metadata": {
        "id": "B_-u0h5hRKwX"
      },
      "execution_count": 70,
      "outputs": []
    },
    {
      "cell_type": "code",
      "source": [
        "input = np.array([[0,0], [0,1], [1,0], [1,1]])\n",
        "output = np.array([[0],   [1],   [1],   [0]])"
      ],
      "metadata": {
        "id": "SGmJmSBoRPH8"
      },
      "execution_count": 71,
      "outputs": []
    },
    {
      "cell_type": "code",
      "source": [
        "weigths_input_hidden = np.array([\n",
        "    [-0.424, -0.740, -0.961],\n",
        "    [0.358, -0.577, -0.469],\n",
        "  ])\n",
        "\n",
        "weigths_hidden_output = np.array([\n",
        "    [-0.017], [-0.893], [0.148]\n",
        "])\n",
        "\n",
        "epochs = 100"
      ],
      "metadata": {
        "id": "toIzqHi5VXD9"
      },
      "execution_count": 72,
      "outputs": []
    },
    {
      "cell_type": "code",
      "source": [
        "# euler == 2.71 ~= np.exp(1)\n",
        "def sigmoid(soma):\n",
        "  y = 1 / (1 + np.exp(-soma))\n",
        "  return y"
      ],
      "metadata": {
        "id": "1mbNf_twXApD"
      },
      "execution_count": 73,
      "outputs": []
    },
    {
      "cell_type": "code",
      "source": [
        "#Ajustando epocas por 100 vezes\n",
        "# for j in range(epochs):\n",
        "input_layer = input\n",
        "\n",
        "synapse_sum = np.dot(input_layer, weigths_input_hidden)\n",
        "hidden_layer = sigmoid(synapse_sum)"
      ],
      "metadata": {
        "id": "qpbSkhnXWYzu"
      },
      "execution_count": 74,
      "outputs": []
    },
    {
      "cell_type": "code",
      "source": [
        "sum_hidden_layer = np.dot(hidden_layer, weigths_hidden_output)\n",
        "output_layer = sigmoid(sum_hidden_layer)"
      ],
      "metadata": {
        "id": "xJvfkX9sXqcB"
      },
      "execution_count": 75,
      "outputs": []
    },
    {
      "cell_type": "code",
      "source": [
        "erro = output - output_layer"
      ],
      "metadata": {
        "id": "WCm_hQ1sZnux"
      },
      "execution_count": 77,
      "outputs": []
    },
    {
      "cell_type": "code",
      "source": [
        "absolut_mean = np.mean(np.abs(erro))"
      ],
      "metadata": {
        "id": "1reMBy_TaE0b"
      },
      "execution_count": 85,
      "outputs": []
    },
    {
      "cell_type": "code",
      "source": [
        "# A media absoluta - para saber a porcentagem de acerto da rede 1 - media absoluta = 50%\n",
        "absolut_mean\n",
        "print(\"A porcentagem de acerto da rede neural: {:.2f}%\".format(1 - absolut_mean))"
      ],
      "metadata": {
        "colab": {
          "base_uri": "https://localhost:8080/"
        },
        "id": "xtuTquJ7bMxy",
        "outputId": "24df7429-57bb-4ff5-d6fa-6f50d2746660"
      },
      "execution_count": 103,
      "outputs": [
        {
          "output_type": "stream",
          "name": "stdout",
          "text": [
            "A porcentagem de acerto da rede neural: 0.50%\n"
          ]
        }
      ]
    }
  ]
}