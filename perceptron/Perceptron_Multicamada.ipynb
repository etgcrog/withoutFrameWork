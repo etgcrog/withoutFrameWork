{
  "cells": [
    {
      "cell_type": "markdown",
      "metadata": {
        "colab_type": "text",
        "id": "view-in-github"
      },
      "source": [
        "<a href=\"https://colab.research.google.com/github/etgcrog/withoutFrameWork/blob/main/Perceptron_Multicamada.ipynb\" target=\"_parent\"><img src=\"https://colab.research.google.com/assets/colab-badge.svg\" alt=\"Open In Colab\"/></a>"
      ]
    },
    {
      "cell_type": "markdown",
      "metadata": {
        "id": "tTNraZ6CQ60W"
      },
      "source": [
        "# Sigmoid"
      ]
    },
    {
      "cell_type": "code",
      "execution_count": 1,
      "metadata": {
        "id": "B_-u0h5hRKwX"
      },
      "outputs": [],
      "source": [
        "import numpy as np"
      ]
    },
    {
      "cell_type": "code",
      "execution_count": 2,
      "metadata": {
        "id": "SGmJmSBoRPH8"
      },
      "outputs": [],
      "source": [
        "input = np.array([\n",
        "    [0,0], \n",
        "    [0,1], \n",
        "    [1,0], \n",
        "    [1,1]\n",
        "])\n",
        "\n",
        "output = np.array([[0],   [1],   [1],   [0]])"
      ]
    },
    {
      "cell_type": "code",
      "execution_count": 3,
      "metadata": {
        "id": "toIzqHi5VXD9"
      },
      "outputs": [],
      "source": [
        "# weigths_input_hidden = np.array([\n",
        "#     [-0.424, -0.740, -0.961],\n",
        "#     [0.358, -0.577, -0.469],\n",
        "#   ])\n",
        "\n",
        "weigths_input_hidden = 2 * np.random.random((2, 3)) - 1\n",
        "\n",
        "weigths_hidden_output = 2 * np.random.random((3, 1)) - 1\n",
        "\n",
        "# weigths_hidden_output = np.array([\n",
        "#     [-0.017], [-0.893], [0.148]\n",
        "# ])"
      ]
    },
    {
      "cell_type": "code",
      "execution_count": 4,
      "metadata": {
        "id": "1mbNf_twXApD"
      },
      "outputs": [],
      "source": [
        "# euler == 2.71 ~= np.exp(1)\n",
        "def sigmoid(soma):\n",
        "  y = 1 / (1 + np.exp(-soma))\n",
        "  return y\n",
        "\n",
        "def sigmoidDerivada(y):\n",
        "  return y * (1 - y)"
      ]
    },
    {
      "cell_type": "code",
      "execution_count": 5,
      "metadata": {
        "colab": {
          "base_uri": "https://localhost:8080/"
        },
        "id": "BvFzncg2M9aR",
        "outputId": "0d368acf-dd9d-4579-cb53-e577f576b6c0"
      },
      "outputs": [
        {
          "data": {
            "text/plain": [
              "0.24114250453705233"
            ]
          },
          "execution_count": 5,
          "metadata": {},
          "output_type": "execute_result"
        }
      ],
      "source": [
        "sigmoidDerivada(sigmoid(-0.381))"
      ]
    },
    {
      "cell_type": "code",
      "execution_count": 6,
      "metadata": {
        "colab": {
          "base_uri": "https://localhost:8080/"
        },
        "id": "qpbSkhnXWYzu",
        "outputId": "7067c42f-b55b-43e5-8df9-dec80c632722"
      },
      "outputs": [
        {
          "name": "stdout",
          "output_type": "stream",
          "text": [
            "A acuracia do modelo da rede neural: 98.91%\n"
          ]
        }
      ],
      "source": [
        "#Ajustando epocas por 100 vezes\n",
        "epochs = 100000\n",
        "momentum = 1\n",
        "learning_rating = 0.3\n",
        "accuracy = 0 \n",
        "\n",
        "for j in range(epochs):\n",
        "  #Propagation\n",
        "  input_layer = input\n",
        "\n",
        "  synapse_sum = np.dot(input_layer, weigths_input_hidden)\n",
        "  hidden_layer = sigmoid(synapse_sum)\n",
        "\n",
        "  sum_hidden_layer = np.dot(hidden_layer, weigths_hidden_output)\n",
        "  output_layer = sigmoid(sum_hidden_layer)\n",
        "\n",
        "  erro = output - output_layer\n",
        "\n",
        "  absolut_mean = np.mean(np.abs(erro))\n",
        "  accuracy = absolut_mean\n",
        "  \n",
        "  #delta de saida\n",
        "  output_delta = erro * sigmoidDerivada(output_layer)\n",
        "\n",
        "  #fazendo a transposta do peso -> delta_escondida = derivada_sigmoid * peso * delta_saida\n",
        "  weigths_hidden_output_t = weigths_hidden_output.T\n",
        "  delta_hidden_weights = output_delta.dot(weigths_hidden_output_t)\n",
        "\n",
        "  delta_hidden_layer = delta_hidden_weights * sigmoidDerivada(hidden_layer)\n",
        "\n",
        "  #BackPropagtion!!!\n",
        "\n",
        "  #Atulizacao dos pesos da oculta para a camada de saida \n",
        "  #peso(n+1) = (peso(n) * momentum) = (entrada_da_oculta * delta_saida * learning_rating)\n",
        "  transpose_hidden_layer = hidden_layer.T\n",
        "  new_weights_layer = transpose_hidden_layer.dot(output_delta)\n",
        "\n",
        "  weigths_hidden_output = (weigths_hidden_output * momentum) + (new_weights_layer * learning_rating)\n",
        "\n",
        "  #Atulizacao dos pesos da camada de entrada para a oculta \n",
        "  transpose_input = input.T\n",
        "  new_weights_input = transpose_input.dot(delta_hidden_layer)\n",
        "  weigths_input_hidden = (weigths_input_hidden * momentum) + (new_weights_input * learning_rating)\n",
        "\n",
        "# A media absoluta - para saber a porcentagem de acerto da rede 1 - media absoluta = 50%\n",
        "print(\"A acuracia do modelo da rede neural: {:.2f}%\".format((1 - accuracy) * 100))"
      ]
    },
    {
      "cell_type": "code",
      "execution_count": 7,
      "metadata": {
        "colab": {
          "base_uri": "https://localhost:8080/"
        },
        "id": "D4VSUBc7YuST",
        "outputId": "87b881c2-eb15-451f-a211-b9f8297f4a7a"
      },
      "outputs": [
        {
          "data": {
            "text/plain": [
              "array([[0],\n",
              "       [1],\n",
              "       [1],\n",
              "       [0]])"
            ]
          },
          "execution_count": 7,
          "metadata": {},
          "output_type": "execute_result"
        }
      ],
      "source": [
        "output"
      ]
    },
    {
      "cell_type": "code",
      "execution_count": 8,
      "metadata": {
        "colab": {
          "base_uri": "https://localhost:8080/"
        },
        "id": "cv91umWdZ-rU",
        "outputId": "5d1c7d57-e395-4834-c924-803a559d3ac9"
      },
      "outputs": [
        {
          "data": {
            "text/plain": [
              "array([[0.01834361],\n",
              "       [0.98892769],\n",
              "       [0.98892292],\n",
              "       [0.00304083]])"
            ]
          },
          "execution_count": 8,
          "metadata": {},
          "output_type": "execute_result"
        }
      ],
      "source": [
        "output_layer"
      ]
    }
  ],
  "metadata": {
    "colab": {
      "authorship_tag": "ABX9TyM2avmNpHtfE4djQjhYGddV",
      "include_colab_link": true,
      "provenance": []
    },
    "kernelspec": {
      "display_name": "base",
      "language": "python",
      "name": "python3"
    },
    "language_info": {
      "codemirror_mode": {
        "name": "ipython",
        "version": 3
      },
      "file_extension": ".py",
      "mimetype": "text/x-python",
      "name": "python",
      "nbconvert_exporter": "python",
      "pygments_lexer": "ipython3",
      "version": "3.9.13"
    },
    "vscode": {
      "interpreter": {
        "hash": "caee80986071d282bdc450f1cac9a9b424c2a54a341b1dfc38a1eb4c803d8cd6"
      }
    }
  },
  "nbformat": 4,
  "nbformat_minor": 0
}
