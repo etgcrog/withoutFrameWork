{
  "nbformat": 4,
  "nbformat_minor": 0,
  "metadata": {
    "colab": {
      "provenance": [],
      "authorship_tag": "ABX9TyOniVSfF2x9ZJLDcy9TBUZj",
      "include_colab_link": true
    },
    "kernelspec": {
      "name": "python3",
      "display_name": "Python 3"
    },
    "language_info": {
      "name": "python"
    }
  },
  "cells": [
    {
      "cell_type": "markdown",
      "metadata": {
        "id": "view-in-github",
        "colab_type": "text"
      },
      "source": [
        "<a href=\"https://colab.research.google.com/github/etgcrog/withoutFrameWork/blob/main/Ajustes_dos_pesos.ipynb\" target=\"_parent\"><img src=\"https://colab.research.google.com/assets/colab-badge.svg\" alt=\"Open In Colab\"/></a>"
      ]
    },
    {
      "cell_type": "code",
      "execution_count": null,
      "metadata": {
        "id": "c4Q3Zrg3HfOv"
      },
      "outputs": [],
      "source": [
        "import numpy as np"
      ]
    },
    {
      "cell_type": "code",
      "source": [
        "entradas = np.array([[0,0], [0,1], [1,0], [1,1]])\n",
        "saidas = np.array([0,0,0,1])\n",
        "pesos = np.array([0.0, 0.0])\n",
        "taxa_aprendizagem = 0.1"
      ],
      "metadata": {
        "id": "W5eqRN3cHih6"
      },
      "execution_count": null,
      "outputs": []
    },
    {
      "cell_type": "code",
      "source": [
        "def stepFunction(sum):\n",
        "  if (sum >= 1):\n",
        "    return 1\n",
        "  return 0\n",
        "\n",
        "def output(s):\n",
        "  s = s.dot(pesos)\n",
        "  return stepFunction(s)"
      ],
      "metadata": {
        "id": "wv-ycAxOH0p5"
      },
      "execution_count": null,
      "outputs": []
    },
    {
      "cell_type": "code",
      "source": [
        "# saida - resultado calculo\n",
        "#Enquanto o erro for diferente de 0\n",
        "  # calcular a saida com os pessoas atuais\n",
        "    # comparar a saida esperada com a saida calculada\n",
        "      # peso(n+1) = peso(n) + (taxa * entrada * erro)"
      ],
      "metadata": {
        "id": "rAC8ovBQLCat"
      },
      "execution_count": null,
      "outputs": []
    },
    {
      "cell_type": "code",
      "source": [
        "def train():\n",
        "  erroTotal = 1\n",
        "  epoch = -1\n",
        "  while (erroTotal != 0):\n",
        "    erroTotal = 0\n",
        "    for i in range(len(saidas)):\n",
        "      saidaCalculada = output(np.asarray(entradas[i]))\n",
        "      erro = abs(saidas[i] - saidaCalculada)\n",
        "\n",
        "      erroTotal += erro\n",
        "\n",
        "      #atualizacao dos pesos\n",
        "\n",
        "      for j in range(len(pesos)):\n",
        "        pesos[j] = pesos[j] + (taxa_aprendizagem * entradas[i][j] * erro)\n",
        "        print(\"Peso Atualizado: \" + str(pesos[j]))\n",
        "      \n",
        "    epoch += 1\n",
        "\n",
        "    print(\"Total de erros: \" + str(erroTotal))\n",
        "  print(\"\\n Foram rodadas {} epocas\".format(epoch))"
      ],
      "metadata": {
        "id": "VSt4wGmIJEe2"
      },
      "execution_count": null,
      "outputs": []
    },
    {
      "cell_type": "code",
      "source": [
        "train()"
      ],
      "metadata": {
        "colab": {
          "base_uri": "https://localhost:8080/"
        },
        "id": "cczUl7N0OC_A",
        "outputId": "94dfeb73-ad4e-4128-f75f-df191632a3b5"
      },
      "execution_count": null,
      "outputs": [
        {
          "output_type": "stream",
          "name": "stdout",
          "text": [
            "Peso Atualizado: 0.0\n",
            "Peso Atualizado: 0.0\n",
            "Peso Atualizado: 0.0\n",
            "Peso Atualizado: 0.0\n",
            "Peso Atualizado: 0.0\n",
            "Peso Atualizado: 0.0\n",
            "Peso Atualizado: 0.1\n",
            "Peso Atualizado: 0.1\n",
            "Total de erros: 1\n",
            "Peso Atualizado: 0.1\n",
            "Peso Atualizado: 0.1\n",
            "Peso Atualizado: 0.1\n",
            "Peso Atualizado: 0.1\n",
            "Peso Atualizado: 0.1\n",
            "Peso Atualizado: 0.1\n",
            "Peso Atualizado: 0.2\n",
            "Peso Atualizado: 0.2\n",
            "Total de erros: 1\n",
            "Peso Atualizado: 0.2\n",
            "Peso Atualizado: 0.2\n",
            "Peso Atualizado: 0.2\n",
            "Peso Atualizado: 0.2\n",
            "Peso Atualizado: 0.2\n",
            "Peso Atualizado: 0.2\n",
            "Peso Atualizado: 0.30000000000000004\n",
            "Peso Atualizado: 0.30000000000000004\n",
            "Total de erros: 1\n",
            "Peso Atualizado: 0.30000000000000004\n",
            "Peso Atualizado: 0.30000000000000004\n",
            "Peso Atualizado: 0.30000000000000004\n",
            "Peso Atualizado: 0.30000000000000004\n",
            "Peso Atualizado: 0.30000000000000004\n",
            "Peso Atualizado: 0.30000000000000004\n",
            "Peso Atualizado: 0.4\n",
            "Peso Atualizado: 0.4\n",
            "Total de erros: 1\n",
            "Peso Atualizado: 0.4\n",
            "Peso Atualizado: 0.4\n",
            "Peso Atualizado: 0.4\n",
            "Peso Atualizado: 0.4\n",
            "Peso Atualizado: 0.4\n",
            "Peso Atualizado: 0.4\n",
            "Peso Atualizado: 0.5\n",
            "Peso Atualizado: 0.5\n",
            "Total de erros: 1\n",
            "Peso Atualizado: 0.5\n",
            "Peso Atualizado: 0.5\n",
            "Peso Atualizado: 0.5\n",
            "Peso Atualizado: 0.5\n",
            "Peso Atualizado: 0.5\n",
            "Peso Atualizado: 0.5\n",
            "Peso Atualizado: 0.5\n",
            "Peso Atualizado: 0.5\n",
            "Total de erros: 0\n",
            "\n",
            " Foram rodadas 5 epocas\n"
          ]
        }
      ]
    },
    {
      "cell_type": "code",
      "source": [],
      "metadata": {
        "id": "sLailuvgOEYH"
      },
      "execution_count": null,
      "outputs": []
    }
  ]
}