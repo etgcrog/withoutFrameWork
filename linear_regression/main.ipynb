{
 "cells": [
  {
   "cell_type": "code",
   "execution_count": 171,
   "metadata": {},
   "outputs": [],
   "source": [
    "import os\n",
    "from math import sqrt\n",
    "from csv import reader, writer"
   ]
  },
  {
   "cell_type": "code",
   "execution_count": 196,
   "metadata": {},
   "outputs": [],
   "source": [
    "path = os.getcwd()\n",
    "data_path = path + '/dados/dataset.csv'"
   ]
  },
  {
   "cell_type": "code",
   "execution_count": 197,
   "metadata": {},
   "outputs": [],
   "source": [
    "def log(MSG):\n",
    "    print(f\"{MSG}\", end=\" \\n \")\n",
    "\n",
    "def mean(values):\n",
    "    return sum(values) / len(values)\n",
    "\n",
    "# A variancia nos diz o quanto os dados se dispersam em torno da média.\n",
    "def variance(list, mean):\n",
    "    # return sum([(x - mean) **2 for x in list])\n",
    "    varianca = 0\n",
    "    for i in list:\n",
    "        varianca += (i - mean) ** 2\n",
    "\n",
    "    return varianca / len(list)\n",
    "\n",
    "def covariance(x, y, x_mean, y_mean):\n",
    "    sum_xy = .0\n",
    "    for i in range(len(x)):\n",
    "        sum_xy += (x[i] - x_mean) * (y[i] - y_mean)\n",
    "        \n",
    "    covar = sum_xy / (len(x) - 1)\n",
    "    return covar\n",
    "\n",
    "def coefficient(covar, var, x_mean, y_mean):\n",
    "    b1 = covar / var\n",
    "    b0 = y_mean - (b1 * x_mean)\n",
    "\n",
    "    return b1, b0"
   ]
  },
  {
   "cell_type": "code",
   "execution_count": 198,
   "metadata": {},
   "outputs": [],
   "source": [
    "def read_csv(data_path):\n",
    "    data = []\n",
    "\n",
    "    with open(data_path, 'r') as file:\n",
    "        csv_file = reader(file)\n",
    "        for row in csv_file:\n",
    "            data.append(row)\n",
    "\n",
    "    x = [data[i][0] for i in range(1, len(data))]\n",
    "    y = [data[i][1] for i in range(1, len(data))]\n",
    "\n",
    "    return x, y"
   ]
  },
  {
   "cell_type": "code",
   "execution_count": 199,
   "metadata": {},
   "outputs": [],
   "source": [
    "def train_test_split(x, y):\n",
    "    \n",
    "    train_size = int(0.8 * len(x))\n",
    "\n",
    "    x_train, x_test = x[0:train_size], x[train_size::]\n",
    "    y_train, y_test = y[0:train_size], y[train_size::]\n",
    "\n",
    "    log(f\"Shape dataset train: {len(x_train)}\\nShape Dataset test: {len(x_test)}\")\n",
    "\n",
    "    return x_train, x_test, y_train, y_test"
   ]
  },
  {
   "cell_type": "code",
   "execution_count": 200,
   "metadata": {},
   "outputs": [],
   "source": [
    "def predict(b0, b1, x_test):\n",
    "    predicted_y = []\n",
    "    for i in x_test:\n",
    "        predicted_y.append(b0 + b1 * i)\n",
    "    return predicted_y\n",
    "\n",
    "def rmse(predicted_y, y_test):\n",
    "    for i in range(len(predicted_y)):\n",
    "        mean_squared_erro = (predicted_y[i] - y_test[i]) ** 2\n",
    "    root_mean_squared_erro = sqrt(mean_squared_erro / float(len(y_test)))\n",
    "    return root_mean_squared_erro\n",
    "\n"
   ]
  },
  {
   "cell_type": "code",
   "execution_count": 201,
   "metadata": {},
   "outputs": [
    {
     "name": "stdout",
     "output_type": "stream",
     "text": [
      "Shape dataset train: 160\n",
      "Shape Dataset test: 40 \n",
      " "
     ]
    }
   ],
   "source": [
    "x, y = read_csv(data_path)\n",
    "\n",
    "x = [float(i) for i in x]\n",
    "y = [float(i) for i in y]\n",
    "\n",
    "x_mean = mean(x)\n",
    "y_mean = mean(y)\n",
    "\n",
    "covariance = covariance(x, y, x_mean, y_mean)\n",
    "\n",
    "var = variance(x, x_mean)\n",
    "\n",
    "x_train, x_test, y_train, y_test = train_test_split(x, y)\n",
    "\n",
    "b1, b0 = coefficient(covariance, var, x_mean, y_mean)"
   ]
  },
  {
   "cell_type": "code",
   "execution_count": 202,
   "metadata": {},
   "outputs": [
    {
     "name": "stdout",
     "output_type": "stream",
     "text": [
      "\n",
      "Coeficientes\n",
      "B1: 3.449925758061936\n",
      "B0: -107.19981527515677\n"
     ]
    }
   ],
   "source": [
    "print(\"\\nCoeficientes\")\n",
    "print(\"B1:\", b1)\n",
    "print(\"B0:\", b0)"
   ]
  },
  {
   "cell_type": "code",
   "execution_count": 203,
   "metadata": {},
   "outputs": [],
   "source": [
    "y_predicted = predict(b0, b1, x_test)\n"
   ]
  },
  {
   "cell_type": "code",
   "execution_count": 204,
   "metadata": {},
   "outputs": [],
   "source": [
    "rmse = rmse(y_predicted, y_test)"
   ]
  },
  {
   "cell_type": "code",
   "execution_count": 205,
   "metadata": {},
   "outputs": [
    {
     "data": {
      "text/plain": [
       "1.7725174379987776"
      ]
     },
     "execution_count": 205,
     "metadata": {},
     "output_type": "execute_result"
    }
   ],
   "source": [
    "rmse"
   ]
  },
  {
   "cell_type": "code",
   "execution_count": 206,
   "metadata": {},
   "outputs": [
    {
     "data": {
      "text/plain": [
       "119.73630109015738"
      ]
     },
     "execution_count": 206,
     "metadata": {},
     "output_type": "execute_result"
    }
   ],
   "source": [
    "b0 + b1 * 65.78"
   ]
  },
  {
   "cell_type": "code",
   "execution_count": 189,
   "metadata": {},
   "outputs": [
    {
     "data": {
      "text/plain": [
       "[['Investimento', 'Retorno'],\n",
       " ['65.78', '112.99'],\n",
       " ['71.52', '136.49'],\n",
       " ['69.40', '153.03'],\n",
       " ['68.22', '142.34'],\n",
       " ['67.79', '144.30'],\n",
       " ['68.70', '123.30'],\n",
       " ['69.80', '141.49'],\n",
       " ['70.01', '136.46'],\n",
       " ['67.90', '112.37'],\n",
       " ['66.78', '120.67'],\n",
       " ['66.49', '127.45'],\n",
       " ['67.62', '114.14'],\n",
       " ['68.30', '125.61'],\n",
       " ['67.12', '122.46'],\n",
       " ['68.28', '116.09'],\n",
       " ['71.09', '140.00'],\n",
       " ['66.46', '129.50'],\n",
       " ['68.65', '142.97'],\n",
       " ['71.23', '137.90'],\n",
       " ['67.13', '124.04'],\n",
       " ['67.83', '141.28'],\n",
       " ['68.88', '143.54'],\n",
       " ['63.48', '97.90'],\n",
       " ['68.42', '129.50'],\n",
       " ['67.63', '141.85'],\n",
       " ['67.21', '129.72'],\n",
       " ['70.84', '142.42'],\n",
       " ['67.49', '131.55'],\n",
       " ['66.53', '108.33'],\n",
       " ['65.44', '113.89'],\n",
       " ['69.52', '103.30'],\n",
       " ['65.81', '120.75'],\n",
       " ['67.82', '125.79'],\n",
       " ['70.60', '136.22'],\n",
       " ['71.80', '140.10'],\n",
       " ['69.21', '128.75'],\n",
       " ['66.80', '141.80'],\n",
       " ['67.66', '121.23'],\n",
       " ['67.81', '131.35'],\n",
       " ['64.05', '106.71'],\n",
       " ['68.57', '124.36'],\n",
       " ['65.18', '124.86'],\n",
       " ['69.66', '139.67'],\n",
       " ['67.97', '137.37'],\n",
       " ['65.98', '106.45'],\n",
       " ['68.67', '128.76'],\n",
       " ['66.88', '145.68'],\n",
       " ['67.70', '116.82'],\n",
       " ['69.82', '143.62'],\n",
       " ['69.09', '134.93'],\n",
       " ['69.91', '147.02'],\n",
       " ['67.33', '126.33'],\n",
       " ['70.27', '125.48'],\n",
       " ['69.10', '115.71'],\n",
       " ['65.38', '123.49'],\n",
       " ['70.18', '147.89'],\n",
       " ['70.41', '155.90'],\n",
       " ['66.54', '128.07'],\n",
       " ['66.36', '119.37'],\n",
       " ['67.54', '133.81'],\n",
       " ['66.50', '128.73'],\n",
       " ['69.00', '137.55'],\n",
       " ['68.30', '129.76'],\n",
       " ['67.01', '128.82'],\n",
       " ['70.81', '135.32'],\n",
       " ['68.22', '109.61'],\n",
       " ['69.06', '142.47'],\n",
       " ['67.73', '132.75'],\n",
       " ['67.22', '103.53'],\n",
       " ['67.37', '124.73'],\n",
       " ['65.27', '129.31'],\n",
       " ['70.84', '134.02'],\n",
       " ['69.92', '140.40'],\n",
       " ['64.29', '102.84'],\n",
       " ['68.25', '128.52'],\n",
       " ['66.36', '120.30'],\n",
       " ['68.36', '138.60'],\n",
       " ['65.48', '132.96'],\n",
       " ['69.72', '115.62'],\n",
       " ['67.73', '122.52'],\n",
       " ['68.64', '134.63'],\n",
       " ['66.78', '121.90'],\n",
       " ['70.05', '155.38'],\n",
       " ['66.28', '128.94'],\n",
       " ['69.20', '129.10'],\n",
       " ['69.13', '139.47'],\n",
       " ['67.36', '140.89'],\n",
       " ['70.09', '131.59'],\n",
       " ['70.18', '121.12'],\n",
       " ['68.23', '131.51'],\n",
       " ['68.13', '136.55'],\n",
       " ['70.24', '141.49'],\n",
       " ['71.49', '140.61'],\n",
       " ['69.20', '112.14'],\n",
       " ['70.06', '133.46'],\n",
       " ['70.56', '131.80'],\n",
       " ['66.29', '120.03'],\n",
       " ['63.43', '123.10'],\n",
       " ['66.77', '128.14'],\n",
       " ['68.89', '115.48'],\n",
       " ['64.87', '102.09'],\n",
       " ['67.09', '130.35'],\n",
       " ['68.35', '134.18'],\n",
       " ['65.61', '98.64'],\n",
       " ['67.76', '114.56'],\n",
       " ['68.02', '123.49'],\n",
       " ['67.66', '123.05'],\n",
       " ['66.31', '126.48'],\n",
       " ['69.44', '128.42'],\n",
       " ['63.84', '127.19'],\n",
       " ['67.72', '122.06'],\n",
       " ['70.05', '127.61'],\n",
       " ['70.19', '131.64'],\n",
       " ['65.95', '111.90'],\n",
       " ['70.01', '122.04'],\n",
       " ['68.61', '128.55'],\n",
       " ['68.81', '132.68'],\n",
       " ['69.76', '136.06'],\n",
       " ['65.46', '115.94'],\n",
       " ['68.83', '136.90'],\n",
       " ['65.80', '119.88'],\n",
       " ['67.21', '109.01'],\n",
       " ['69.42', '128.27'],\n",
       " ['68.94', '135.29'],\n",
       " ['67.94', '106.86'],\n",
       " ['65.63', '123.29'],\n",
       " ['66.50', '109.51'],\n",
       " ['67.93', '119.31'],\n",
       " ['68.89', '140.24'],\n",
       " ['70.24', '133.98'],\n",
       " ['68.27', '132.58'],\n",
       " ['71.23', '130.70'],\n",
       " ['69.10', '115.56'],\n",
       " ['64.40', '123.79'],\n",
       " ['71.10', '128.14'],\n",
       " ['68.22', '135.96'],\n",
       " ['65.92', '116.63'],\n",
       " ['67.44', '126.82'],\n",
       " ['73.90', '151.39'],\n",
       " ['69.98', '130.40'],\n",
       " ['69.52', '136.21'],\n",
       " ['65.18', '113.40'],\n",
       " ['68.01', '125.33'],\n",
       " ['68.34', '127.58'],\n",
       " ['65.18', '107.16'],\n",
       " ['68.26', '116.46'],\n",
       " ['68.57', '133.84'],\n",
       " ['64.50', '112.89'],\n",
       " ['68.71', '130.76'],\n",
       " ['68.89', '137.76'],\n",
       " ['69.54', '125.40'],\n",
       " ['67.40', '138.47'],\n",
       " ['66.48', '120.82'],\n",
       " ['66.01', '140.15'],\n",
       " ['72.44', '136.74'],\n",
       " ['64.13', '106.11'],\n",
       " ['70.98', '158.96'],\n",
       " ['67.50', '108.79'],\n",
       " ['72.02', '138.78'],\n",
       " ['65.31', '115.91'],\n",
       " ['67.08', '146.29'],\n",
       " ['64.39', '109.88'],\n",
       " ['69.37', '139.05'],\n",
       " ['68.38', '119.90'],\n",
       " ['65.31', '128.31'],\n",
       " ['67.14', '127.24'],\n",
       " ['68.39', '115.23'],\n",
       " ['66.29', '124.80'],\n",
       " ['67.19', '126.95'],\n",
       " ['65.99', '111.27'],\n",
       " ['69.43', '122.61'],\n",
       " ['67.97', '124.21'],\n",
       " ['67.76', '124.65'],\n",
       " ['65.28', '119.52'],\n",
       " ['73.83', '139.30'],\n",
       " ['66.81', '104.83'],\n",
       " ['66.89', '123.04'],\n",
       " ['65.74', '118.89'],\n",
       " ['65.98', '121.49'],\n",
       " ['66.58', '119.25'],\n",
       " ['67.11', '135.02'],\n",
       " ['65.87', '116.23'],\n",
       " ['66.78', '109.17'],\n",
       " ['68.74', '124.22'],\n",
       " ['66.23', '141.16'],\n",
       " ['65.96', '129.15'],\n",
       " ['68.58', '127.87'],\n",
       " ['66.59', '120.92'],\n",
       " ['66.97', '127.65'],\n",
       " ['68.08', '101.47'],\n",
       " ['70.19', '144.99'],\n",
       " ['65.52', '110.95'],\n",
       " ['67.46', '132.86'],\n",
       " ['67.41', '146.34'],\n",
       " ['69.66', '145.59'],\n",
       " ['65.80', '120.84'],\n",
       " ['66.11', '115.78'],\n",
       " ['68.24', '128.30'],\n",
       " ['68.02', '127.47'],\n",
       " ['71.39', '127.88']]"
      ]
     },
     "execution_count": 189,
     "metadata": {},
     "output_type": "execute_result"
    }
   ],
   "source": [
    "data"
   ]
  },
  {
   "cell_type": "code",
   "execution_count": null,
   "metadata": {},
   "outputs": [],
   "source": []
  }
 ],
 "metadata": {
  "kernelspec": {
   "display_name": "base",
   "language": "python",
   "name": "python3"
  },
  "language_info": {
   "codemirror_mode": {
    "name": "ipython",
    "version": 3
   },
   "file_extension": ".py",
   "mimetype": "text/x-python",
   "name": "python",
   "nbconvert_exporter": "python",
   "pygments_lexer": "ipython3",
   "version": "3.9.13"
  },
  "orig_nbformat": 4,
  "vscode": {
   "interpreter": {
    "hash": "caee80986071d282bdc450f1cac9a9b424c2a54a341b1dfc38a1eb4c803d8cd6"
   }
  }
 },
 "nbformat": 4,
 "nbformat_minor": 2
}
