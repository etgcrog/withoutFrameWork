{
 "cells": [
  {
   "cell_type": "code",
   "execution_count": 5,
   "metadata": {},
   "outputs": [
    {
     "name": "stdout",
     "output_type": "stream",
     "text": [
      "Author: Eduardo Teles Guimaraes\n",
      "\n",
      "seaborn   : 0.11.2\n",
      "numpy     : 1.21.5\n",
      "pandas    : 1.4.4\n",
      "matplotlib: 3.5.2\n",
      "sklearn   : 1.0.2\n",
      "scipy     : 1.9.1\n",
      "\n"
     ]
    }
   ],
   "source": [
    "%reload_ext watermark\n",
    "%watermark -a \"Eduardo Teles Guimaraes\" --iversions"
   ]
  },
  {
   "cell_type": "code",
   "execution_count": 6,
   "metadata": {},
   "outputs": [],
   "source": [
    "import scipy\n",
    "import numpy as np\n",
    "import pandas as pd\n",
    "import matplotlib.pyplot as plt\n",
    "import seaborn as sns\n",
    "import sklearn\n",
    "from sklearn.preprocessing import MinMaxScaler\n",
    "from sklearn.metrics import mean_squared_error"
   ]
  },
  {
   "cell_type": "code",
   "execution_count": 11,
   "metadata": {},
   "outputs": [
    {
     "data": {
      "text/plain": [
       "array([-0.26354543, -0.75137839,  0.51091234])"
      ]
     },
     "execution_count": 11,
     "metadata": {},
     "output_type": "execute_result"
    }
   ],
   "source": [
    "np.random.normal(0, 1, 3 * 1) * np.sqrt(2 / 3)"
   ]
  },
  {
   "cell_type": "code",
   "execution_count": null,
   "metadata": {},
   "outputs": [],
   "source": [
    "class Dense:\n",
    "    '''\n",
    "    Classe que cria a arquitetura da rede neural:\n",
    "    entradas\n",
    "    feat_size :: tamanho de entradas iniciais da arquitetura 1, 2, 3, .., n\n",
    "    out_size :: geralmente 1 saida, ou entao, multicamadas\n",
    "    '''\n",
    "    def __init__(self, feat_size, out_size):\n",
    "        # Tamanho das dimensoes\n",
    "        self.feat_size = feat_size\n",
    "        self.out_size = out_size\n",
    "        # np.random.normal(0, 1, 3 * 1) * np.sqrt(2 / 3)    array([ 0.40406558, -0.27438716,  0.58409914])\n",
    "        # Criando um vetor de peso alinhado com a dimensao de entrada e saida\n",
    "        self.weights = (np.random.normal(0, 1, feat_size * out_size) * np.sqrt(2 / feat_size)).reshape(feat_size, out_size)\n",
    "        #Avoid negative output\n",
    "        self.bias = np.random.rand(1, out_size) - 0.5\n",
    "    \n",
    "    def forward(self, input_data):\n",
    "        self.output = np.dot(input_data, self.weights) + self.bias\n",
    "\n",
    "        return self.output\n",
    "\n",
    "    def backpropagation(self, output_der, lr):\n",
    "        # erro = output - output_layer\n",
    "        # Calcular o erro -> (w+1) = (w(n) * erro * lr)\n",
    "        pass\n",
    "    \n",
    "\n",
    "\n",
    "\n",
    "\n",
    "\n",
    "    "
   ]
  }
 ],
 "metadata": {
  "kernelspec": {
   "display_name": "base",
   "language": "python",
   "name": "python3"
  },
  "language_info": {
   "codemirror_mode": {
    "name": "ipython",
    "version": 3
   },
   "file_extension": ".py",
   "mimetype": "text/x-python",
   "name": "python",
   "nbconvert_exporter": "python",
   "pygments_lexer": "ipython3",
   "version": "3.9.13"
  },
  "orig_nbformat": 4,
  "vscode": {
   "interpreter": {
    "hash": "caee80986071d282bdc450f1cac9a9b424c2a54a341b1dfc38a1eb4c803d8cd6"
   }
  }
 },
 "nbformat": 4,
 "nbformat_minor": 2
}
