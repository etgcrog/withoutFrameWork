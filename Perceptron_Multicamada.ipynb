{
  "nbformat": 4,
  "nbformat_minor": 0,
  "metadata": {
    "colab": {
      "provenance": [],
      "authorship_tag": "ABX9TyM2avmNpHtfE4djQjhYGddV",
      "include_colab_link": true
    },
    "kernelspec": {
      "name": "python3",
      "display_name": "Python 3"
    },
    "language_info": {
      "name": "python"
    }
  },
  "cells": [
    {
      "cell_type": "markdown",
      "metadata": {
        "id": "view-in-github",
        "colab_type": "text"
      },
      "source": [
        "<a href=\"https://colab.research.google.com/github/etgcrog/withoutFrameWork/blob/main/Perceptron_Multicamada.ipynb\" target=\"_parent\"><img src=\"https://colab.research.google.com/assets/colab-badge.svg\" alt=\"Open In Colab\"/></a>"
      ]
    },
    {
      "cell_type": "markdown",
      "source": [
        "# Sigmoid"
      ],
      "metadata": {
        "id": "tTNraZ6CQ60W"
      }
    },
    {
      "cell_type": "code",
      "source": [
        "import numpy as np"
      ],
      "metadata": {
        "id": "B_-u0h5hRKwX"
      },
      "execution_count": 72,
      "outputs": []
    },
    {
      "cell_type": "code",
      "source": [
        "input = np.array([\n",
        "    [0,0], \n",
        "    [0,1], \n",
        "    [1,0], \n",
        "    [1,1]\n",
        "])\n",
        "\n",
        "output = np.array([[0],   [1],   [1],   [0]])"
      ],
      "metadata": {
        "id": "SGmJmSBoRPH8"
      },
      "execution_count": 73,
      "outputs": []
    },
    {
      "cell_type": "code",
      "source": [
        "# weigths_input_hidden = np.array([\n",
        "#     [-0.424, -0.740, -0.961],\n",
        "#     [0.358, -0.577, -0.469],\n",
        "#   ])\n",
        "\n",
        "weigths_input_hidden = 2 * np.random.random((2, 3)) - 1\n",
        "\n",
        "weigths_hidden_output = 2 * np.random.random((3, 1)) - 1\n",
        "\n",
        "# weigths_hidden_output = np.array([\n",
        "#     [-0.017], [-0.893], [0.148]\n",
        "# ])"
      ],
      "metadata": {
        "id": "toIzqHi5VXD9"
      },
      "execution_count": 74,
      "outputs": []
    },
    {
      "cell_type": "code",
      "source": [
        "# euler == 2.71 ~= np.exp(1)\n",
        "def sigmoid(soma):\n",
        "  y = 1 / (1 + np.exp(-soma))\n",
        "  return y\n",
        "\n",
        "def sigmoidDerivada(y):\n",
        "  return y * (1 - y)"
      ],
      "metadata": {
        "id": "1mbNf_twXApD"
      },
      "execution_count": 75,
      "outputs": []
    },
    {
      "cell_type": "code",
      "source": [
        "sigmoidDerivada(sigmoid(-0.381))"
      ],
      "metadata": {
        "colab": {
          "base_uri": "https://localhost:8080/"
        },
        "id": "BvFzncg2M9aR",
        "outputId": "0d368acf-dd9d-4579-cb53-e577f576b6c0"
      },
      "execution_count": 76,
      "outputs": [
        {
          "output_type": "execute_result",
          "data": {
            "text/plain": [
              "0.24114250453705233"
            ]
          },
          "metadata": {},
          "execution_count": 76
        }
      ]
    },
    {
      "cell_type": "code",
      "source": [
        "#Ajustando epocas por 100 vezes\n",
        "epochs = 100000\n",
        "momentum = 1\n",
        "learning_rating = 0.3\n",
        "accuracy = 0 \n",
        "\n",
        "for j in range(epochs):\n",
        "  #Propagation\n",
        "  input_layer = input\n",
        "\n",
        "  synapse_sum = np.dot(input_layer, weigths_input_hidden)\n",
        "  hidden_layer = sigmoid(synapse_sum)\n",
        "\n",
        "  sum_hidden_layer = np.dot(hidden_layer, weigths_hidden_output)\n",
        "  output_layer = sigmoid(sum_hidden_layer)\n",
        "\n",
        "  erro = output - output_layer\n",
        "\n",
        "  absolut_mean = np.mean(np.abs(erro))\n",
        "  accuracy = absolut_mean\n",
        "  \n",
        "  #delta de saida\n",
        "  output_delta = erro * sigmoidDerivada(output_layer)\n",
        "\n",
        "  #fazendo a transposta do peso -> delta_escondida = derivada_sigmoid * peso * delta_saida\n",
        "  weigths_hidden_output_t = weigths_hidden_output.T\n",
        "  delta_hidden_weights = output_delta.dot(weigths_hidden_output_t)\n",
        "\n",
        "  delta_hidden_layer = delta_hidden_weights * sigmoidDerivada(hidden_layer)\n",
        "\n",
        "  #BackPropagtion!!!\n",
        "\n",
        "  #Atulizacao dos pesos da oculta para a camada de saida \n",
        "  #peso(n+1) = (peso(n) * momentum) = (entrada_da_oculta * delta_saida * learning_rating)\n",
        "  transpose_hidden_layer = hidden_layer.T\n",
        "  new_weights_layer = transpose_hidden_layer.dot(output_delta)\n",
        "\n",
        "  weigths_hidden_output = (weigths_hidden_output * momentum) + (new_weights_layer * learning_rating)\n",
        "\n",
        "  #Atulizacao dos pesos da camada de entrada para a oculta \n",
        "  transpose_input = input.T\n",
        "  new_weights_input = transpose_input.dot(delta_hidden_layer)\n",
        "  weigths_input_hidden = (weigths_input_hidden * momentum) + (new_weights_input * learning_rating)\n",
        "\n",
        "# A media absoluta - para saber a porcentagem de acerto da rede 1 - media absoluta = 50%\n",
        "print(\"A acuracia do modelo da rede neural: {:.2f}%\".format((1 - accuracy) * 100))"
      ],
      "metadata": {
        "id": "qpbSkhnXWYzu",
        "colab": {
          "base_uri": "https://localhost:8080/"
        },
        "outputId": "7067c42f-b55b-43e5-8df9-dec80c632722"
      },
      "execution_count": 77,
      "outputs": [
        {
          "output_type": "stream",
          "name": "stdout",
          "text": [
            "A acuracia do modelo da rede neural: 98.36%\n"
          ]
        }
      ]
    },
    {
      "cell_type": "code",
      "source": [
        "output"
      ],
      "metadata": {
        "colab": {
          "base_uri": "https://localhost:8080/"
        },
        "id": "D4VSUBc7YuST",
        "outputId": "87b881c2-eb15-451f-a211-b9f8297f4a7a"
      },
      "execution_count": 78,
      "outputs": [
        {
          "output_type": "execute_result",
          "data": {
            "text/plain": [
              "array([[0],\n",
              "       [1],\n",
              "       [1],\n",
              "       [0]])"
            ]
          },
          "metadata": {},
          "execution_count": 78
        }
      ]
    },
    {
      "cell_type": "code",
      "source": [
        "output_layer"
      ],
      "metadata": {
        "colab": {
          "base_uri": "https://localhost:8080/"
        },
        "id": "cv91umWdZ-rU",
        "outputId": "5d1c7d57-e395-4834-c924-803a559d3ac9"
      },
      "execution_count": 79,
      "outputs": [
        {
          "output_type": "execute_result",
          "data": {
            "text/plain": [
              "array([[0.01281275],\n",
              "       [0.97999603],\n",
              "       [0.98323036],\n",
              "       [0.0160043 ]])"
            ]
          },
          "metadata": {},
          "execution_count": 79
        }
      ]
    }
  ]
}